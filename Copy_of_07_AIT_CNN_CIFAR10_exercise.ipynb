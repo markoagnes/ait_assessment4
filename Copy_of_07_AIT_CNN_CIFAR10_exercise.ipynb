{
  "nbformat": 4,
  "nbformat_minor": 0,
  "metadata": {
    "anaconda-cloud": {},
    "kernelspec": {
      "display_name": "Python 3",
      "name": "python3"
    },
    "language_info": {
      "codemirror_mode": {
        "name": "ipython",
        "version": 3
      },
      "file_extension": ".py",
      "mimetype": "text/x-python",
      "name": "python",
      "nbconvert_exporter": "python",
      "pygments_lexer": "ipython3",
      "version": "3.6.6"
    },
    "colab": {
      "provenance": [],
      "gpuType": "T4",
      "include_colab_link": true
    },
    "accelerator": "GPU"
  },
  "cells": [
    {
      "cell_type": "markdown",
      "metadata": {
        "id": "view-in-github",
        "colab_type": "text"
      },
      "source": [
        "<a href=\"https://colab.research.google.com/github/markoagnes/ait_assessment4/blob/main/Copy_of_07_AIT_CNN_CIFAR10_exercise.ipynb\" target=\"_parent\"><img src=\"https://colab.research.google.com/assets/colab-badge.svg\" alt=\"Open In Colab\"/></a>"
      ]
    },
    {
      "cell_type": "markdown",
      "metadata": {
        "id": "cW-EyI5Lxpqi"
      },
      "source": [
        "# Copyright\n",
        "\n",
        "<PRE>\n",
        "Copyright (c) 2024 Bálint Gyires-Tóth - All Rights Reserved\n",
        "You may use and modify this code for research and development purpuses.\n",
        "Using this code for educational purposes (self-paced or instructor led) without the permission of the author is prohibited.\n",
        "</PRE>"
      ]
    },
    {
      "cell_type": "markdown",
      "source": [
        "# Convolutional Neural Network exercise\n",
        "\n",
        "In this notebook, you will build a convolutional neural network, which offers superior results over the previous MLP solution. Additionally, you will perform a more detailed evaluation."
      ],
      "metadata": {
        "id": "3EX4cCa4WKJu"
      }
    },
    {
      "cell_type": "code",
      "source": [
        "# imports\n",
        "from tensorflow.keras.datasets import cifar10\n",
        "from tensorflow.keras.utils import to_categorical\n",
        "import numpy as np\n",
        "import matplotlib.pyplot as plt\n",
        "from tensorflow.keras.models import Sequential\n",
        "from tensorflow.keras.layers import Dense, Conv2D, MaxPool2D, Flatten, Dropout, BatchNormalization\n",
        "from tensorflow.keras.initializers import HeNormal, GlorotNormal\n",
        "from tensorflow.keras.callbacks import EarlyStopping"
      ],
      "metadata": {
        "id": "GdCMhy4HA2qd"
      },
      "execution_count": 11,
      "outputs": []
    },
    {
      "cell_type": "markdown",
      "source": [
        "# 1. Data\n",
        "The dataset we will use is the well-known CIFAR10 (Canadian Institute For Advanced Research). Explore the details on the Keras website first: https://keras.io/api/datasets/cifar10/\n",
        "\n",
        "There isn't much difference between the data preprocessing part and the one we did before. The only difference is that we don't have to reshape images into vectors, but we are working with a 4 dimensional data structure, where the dimensions are: batch, X, Y, and color channels.\n",
        "\n",
        "In the event that anything is not clear regarding the data preparation part, please check the previous CIFAR10 notebook."
      ],
      "metadata": {
        "id": "yY9fztIeWIKt"
      }
    },
    {
      "cell_type": "code",
      "source": [
        "(X_train, Y_train), (X_test, Y_test) = cifar10.load_data()"
      ],
      "metadata": {
        "id": "bez7q0eiWQCK"
      },
      "execution_count": 12,
      "outputs": []
    },
    {
      "cell_type": "code",
      "source": [
        "# it is in int8 format, the neural network requires float32\n",
        "X_train = X_train.astype(\"float32\")\n",
        "X_test = X_test.astype(\"float32\")"
      ],
      "metadata": {
        "id": "vukOcBM0XzSj"
      },
      "execution_count": 13,
      "outputs": []
    },
    {
      "cell_type": "code",
      "source": [
        "train_ratio  = 0.8\n",
        "train_length = X_train.shape[0]\n",
        "train_split  = int(train_ratio*train_length)\n",
        "X_valid, Y_valid = X_train[train_split:], Y_train[train_split:]\n",
        "X_train, Y_train = X_train[:train_split], Y_train[:train_split]"
      ],
      "metadata": {
        "id": "mRwuWxxIxLgN"
      },
      "execution_count": 14,
      "outputs": []
    },
    {
      "cell_type": "code",
      "source": [
        "mean = X_train.mean(axis=0)\n",
        "std  = X_train.std(axis=0)\n",
        "\n",
        "X_train = (X_train-mean)/std\n",
        "X_valid = (X_valid-mean)/std\n",
        "X_test  = (X_test-mean)/std"
      ],
      "metadata": {
        "id": "2ESLP1EIyB2J"
      },
      "execution_count": 15,
      "outputs": []
    },
    {
      "cell_type": "code",
      "source": [
        "nb_classes = len(np.unique(Y_train))\n",
        "Y_train = to_categorical(Y_train, nb_classes)\n",
        "Y_valid = to_categorical(Y_valid, nb_classes)\n",
        "Y_test  = to_categorical(Y_test, nb_classes)"
      ],
      "metadata": {
        "id": "xwZ4OJ6I8lba"
      },
      "execution_count": 16,
      "outputs": []
    },
    {
      "cell_type": "code",
      "source": [
        "print(\"Shapes of the training, validation and test input data:\", X_train.shape, X_valid.shape, X_test.shape)\n",
        "print(\"Shapes of the training, validation and test output data:\", Y_train.shape, Y_valid.shape, Y_test.shape)\n",
        "print(\"Mean values of the training, validation and test input data:\", X_train.mean(), X_valid.mean(), X_test.mean())\n",
        "print(\"Standard deviation of the training, validation and test input data:\", X_train.std(), X_valid.std(), X_test.std())"
      ],
      "metadata": {
        "id": "O_jdJVcvX0vi",
        "colab": {
          "base_uri": "https://localhost:8080/"
        },
        "outputId": "47fcce10-9167-4091-dce5-8937d5f77834"
      },
      "execution_count": 17,
      "outputs": [
        {
          "output_type": "stream",
          "name": "stdout",
          "text": [
            "Shapes of the training, validation and test input data: (40000, 32, 32, 3) (10000, 32, 32, 3) (10000, 32, 32, 3)\n",
            "Shapes of the training, validation and test output data: (40000, 10) (10000, 10) (10000, 10)\n",
            "Mean values of the training, validation and test input data: 2.2788842e-09 0.0023437198 0.013331206\n",
            "Standard deviation of the training, validation and test input data: 1.0000023 0.9965626 0.99783075\n"
          ]
        }
      ]
    },
    {
      "cell_type": "markdown",
      "metadata": {
        "id": "cJ14oyZExpqj"
      },
      "source": [
        "# 2. Exercise: training"
      ]
    },
    {
      "cell_type": "markdown",
      "source": [
        "Create and train a convolutional neural network with the following requirements:\n",
        "* apply early stopping with patience=5 and monitor the validation accuracy, don't forget to load back the best weights after early stopping\n",
        "* the number of trainable parameters is lower than 200.000\n",
        "* the validation accuracy must be higher than 72%\n",
        "\n",
        "Hints:\n",
        "* you can always inspect the number of trainable parameters per layer with model.summary()\n",
        "* usually the most trainable parameters are between the last convolutional layer and the next dense layer -- so you should have a reasonable output size at the last convolutional layer\n",
        "* regularization helps (e.g. DropOut and/or BatchNormalization)\n",
        "* use the right activation function at the output layer and the corresponding loss function\n",
        "* for the chosen activation functions, please use the appropriate initialization method\n",
        "* you can match the dimension of the last conv/pooling layer to the next dense layer with e.g. Flatten()\n",
        "* ADAM optimizer is a reasonable choice\n",
        "* don't forget to turn on GPU support in Colab, otherwise, it would be quite slow to train the networks\n",
        "\n"
      ],
      "metadata": {
        "id": "j1tGVPdD-pp3"
      }
    },
    {
      "cell_type": "code",
      "source": [
        "es = EarlyStopping(\n",
        "    monitor='val_accuracy',\n",
        "    patience=5,\n",
        "    min_delta=0.001,\n",
        "    restore_best_weights=True\n",
        ")"
      ],
      "metadata": {
        "id": "5dBQxJHIHrbd"
      },
      "execution_count": 54,
      "outputs": []
    },
    {
      "cell_type": "code",
      "source": [
        "# model definition\n",
        "model = Sequential()\n",
        "model.add(Conv2D(32, (3,3), strides=1, activation=\"relu\", kernel_initializer=HeNormal(), input_shape=(32,32,3)))\n",
        "model.add(BatchNormalization())\n",
        "model.add(Dropout(0.3))\n",
        "model.add(MaxPool2D((2,2), strides=2, padding=\"same\"))\n",
        "model.add(Conv2D(64, (3,3), strides=1, activation=\"relu\", kernel_initializer=HeNormal()))\n",
        "model.add(BatchNormalization())\n",
        "model.add(Dropout(0.5))\n",
        "model.add(MaxPool2D((2,2), strides=2, padding=\"same\"))\n",
        "model.add(Conv2D(64, (3,3), strides=1, activation=\"relu\", kernel_initializer=HeNormal()))\n",
        "model.add(BatchNormalization())\n",
        "model.add(Dropout(0.3))\n",
        "model.add(MaxPool2D((2,2), strides=2, padding=\"same\"))\n",
        "model.add(Flatten())\n",
        "model.add(Dense(128, activation=\"relu\", kernel_initializer=HeNormal()))\n",
        "model.add(BatchNormalization())\n",
        "model.add(Dropout(0.5))\n",
        "model.add(Dense(nb_classes, activation=\"softmax\", kernel_initializer=GlorotNormal()))\n",
        "\n",
        "# loss function and optimizer\n",
        "model.compile(loss='categorical_crossentropy', optimizer='adam', metrics=['accuracy'])"
      ],
      "metadata": {
        "id": "PuxHOqLt-3Nd"
      },
      "execution_count": 55,
      "outputs": []
    },
    {
      "cell_type": "code",
      "source": [
        "model.summary()"
      ],
      "metadata": {
        "id": "5eomQw8uE9Ix",
        "colab": {
          "base_uri": "https://localhost:8080/"
        },
        "outputId": "51d54b9b-968b-44fa-9c5f-6413c86af0f1"
      },
      "execution_count": 56,
      "outputs": [
        {
          "output_type": "stream",
          "name": "stdout",
          "text": [
            "Model: \"sequential_12\"\n",
            "_________________________________________________________________\n",
            " Layer (type)                Output Shape              Param #   \n",
            "=================================================================\n",
            " conv2d_31 (Conv2D)          (None, 30, 30, 32)        896       \n",
            "                                                                 \n",
            " batch_normalization_35 (Ba  (None, 30, 30, 32)        128       \n",
            " tchNormalization)                                               \n",
            "                                                                 \n",
            " dropout_31 (Dropout)        (None, 30, 30, 32)        0         \n",
            "                                                                 \n",
            " max_pooling2d_31 (MaxPooli  (None, 15, 15, 32)        0         \n",
            " ng2D)                                                           \n",
            "                                                                 \n",
            " conv2d_32 (Conv2D)          (None, 13, 13, 64)        18496     \n",
            "                                                                 \n",
            " batch_normalization_36 (Ba  (None, 13, 13, 64)        256       \n",
            " tchNormalization)                                               \n",
            "                                                                 \n",
            " dropout_32 (Dropout)        (None, 13, 13, 64)        0         \n",
            "                                                                 \n",
            " max_pooling2d_32 (MaxPooli  (None, 7, 7, 64)          0         \n",
            " ng2D)                                                           \n",
            "                                                                 \n",
            " conv2d_33 (Conv2D)          (None, 5, 5, 64)          36928     \n",
            "                                                                 \n",
            " batch_normalization_37 (Ba  (None, 5, 5, 64)          256       \n",
            " tchNormalization)                                               \n",
            "                                                                 \n",
            " dropout_33 (Dropout)        (None, 5, 5, 64)          0         \n",
            "                                                                 \n",
            " max_pooling2d_33 (MaxPooli  (None, 3, 3, 64)          0         \n",
            " ng2D)                                                           \n",
            "                                                                 \n",
            " flatten_11 (Flatten)        (None, 576)               0         \n",
            "                                                                 \n",
            " dense_20 (Dense)            (None, 128)               73856     \n",
            "                                                                 \n",
            " batch_normalization_38 (Ba  (None, 128)               512       \n",
            " tchNormalization)                                               \n",
            "                                                                 \n",
            " dropout_34 (Dropout)        (None, 128)               0         \n",
            "                                                                 \n",
            " dense_21 (Dense)            (None, 10)                1290      \n",
            "                                                                 \n",
            "=================================================================\n",
            "Total params: 132618 (518.04 KB)\n",
            "Trainable params: 132042 (515.79 KB)\n",
            "Non-trainable params: 576 (2.25 KB)\n",
            "_________________________________________________________________\n"
          ]
        }
      ]
    },
    {
      "cell_type": "markdown",
      "source": [
        "Please, check the number of trainable paramers:"
      ],
      "metadata": {
        "id": "8tIbIIeTEI41"
      }
    },
    {
      "cell_type": "code",
      "source": [
        "print(\"#trainable parameters:\",model.count_params())"
      ],
      "metadata": {
        "id": "xdBAG7EJETlX",
        "colab": {
          "base_uri": "https://localhost:8080/"
        },
        "outputId": "3c95f09d-8dcf-4f68-8aad-e6f5159e3e74"
      },
      "execution_count": 57,
      "outputs": [
        {
          "output_type": "stream",
          "name": "stdout",
          "text": [
            "#trainable parameters: 132618\n"
          ]
        }
      ]
    },
    {
      "cell_type": "code",
      "source": [
        "# training\n",
        "network_history = model.fit(X_train, Y_train, epochs=30, verbose=1, validation_data=(X_valid, Y_valid), callbacks=[es])"
      ],
      "metadata": {
        "id": "u8tFNCNVHyt9",
        "colab": {
          "base_uri": "https://localhost:8080/"
        },
        "outputId": "0d072f6b-be2b-4939-9f78-d1db692924e0"
      },
      "execution_count": 58,
      "outputs": [
        {
          "output_type": "stream",
          "name": "stdout",
          "text": [
            "Epoch 1/30\n",
            "1250/1250 [==============================] - 11s 7ms/step - loss: 1.8050 - accuracy: 0.3790 - val_loss: 1.6645 - val_accuracy: 0.4122\n",
            "Epoch 2/30\n",
            "1250/1250 [==============================] - 8s 6ms/step - loss: 1.3460 - accuracy: 0.5193 - val_loss: 1.3310 - val_accuracy: 0.5130\n",
            "Epoch 3/30\n",
            "1250/1250 [==============================] - 12s 10ms/step - loss: 1.1952 - accuracy: 0.5775 - val_loss: 1.1864 - val_accuracy: 0.5688\n",
            "Epoch 4/30\n",
            "1250/1250 [==============================] - 9s 8ms/step - loss: 1.0924 - accuracy: 0.6144 - val_loss: 1.1549 - val_accuracy: 0.5911\n",
            "Epoch 5/30\n",
            "1250/1250 [==============================] - 8s 6ms/step - loss: 1.0208 - accuracy: 0.6430 - val_loss: 1.0102 - val_accuracy: 0.6359\n",
            "Epoch 6/30\n",
            "1250/1250 [==============================] - 8s 6ms/step - loss: 0.9706 - accuracy: 0.6601 - val_loss: 1.0092 - val_accuracy: 0.6392\n",
            "Epoch 7/30\n",
            "1250/1250 [==============================] - 8s 6ms/step - loss: 0.9279 - accuracy: 0.6777 - val_loss: 0.9517 - val_accuracy: 0.6652\n",
            "Epoch 8/30\n",
            "1250/1250 [==============================] - 8s 7ms/step - loss: 0.8881 - accuracy: 0.6908 - val_loss: 0.8793 - val_accuracy: 0.6907\n",
            "Epoch 9/30\n",
            "1250/1250 [==============================] - 7s 6ms/step - loss: 0.8622 - accuracy: 0.7009 - val_loss: 0.9103 - val_accuracy: 0.6798\n",
            "Epoch 10/30\n",
            "1250/1250 [==============================] - 8s 7ms/step - loss: 0.8368 - accuracy: 0.7085 - val_loss: 0.9144 - val_accuracy: 0.6828\n",
            "Epoch 11/30\n",
            "1250/1250 [==============================] - 9s 7ms/step - loss: 0.8190 - accuracy: 0.7156 - val_loss: 0.8151 - val_accuracy: 0.7179\n",
            "Epoch 12/30\n",
            "1250/1250 [==============================] - 8s 6ms/step - loss: 0.7938 - accuracy: 0.7253 - val_loss: 0.8032 - val_accuracy: 0.7182\n",
            "Epoch 13/30\n",
            "1250/1250 [==============================] - 9s 7ms/step - loss: 0.7758 - accuracy: 0.7294 - val_loss: 0.7821 - val_accuracy: 0.7275\n",
            "Epoch 14/30\n",
            "1250/1250 [==============================] - 9s 7ms/step - loss: 0.7652 - accuracy: 0.7356 - val_loss: 0.8279 - val_accuracy: 0.7033\n",
            "Epoch 15/30\n",
            "1250/1250 [==============================] - 8s 6ms/step - loss: 0.7517 - accuracy: 0.7416 - val_loss: 0.8640 - val_accuracy: 0.6991\n",
            "Epoch 16/30\n",
            "1250/1250 [==============================] - 8s 6ms/step - loss: 0.7374 - accuracy: 0.7447 - val_loss: 0.8087 - val_accuracy: 0.7128\n",
            "Epoch 17/30\n",
            "1250/1250 [==============================] - 9s 7ms/step - loss: 0.7305 - accuracy: 0.7484 - val_loss: 0.7804 - val_accuracy: 0.7256\n",
            "Epoch 18/30\n",
            "1250/1250 [==============================] - 8s 6ms/step - loss: 0.7244 - accuracy: 0.7497 - val_loss: 0.7633 - val_accuracy: 0.7360\n",
            "Epoch 19/30\n",
            "1250/1250 [==============================] - 8s 7ms/step - loss: 0.7129 - accuracy: 0.7525 - val_loss: 0.7645 - val_accuracy: 0.7323\n",
            "Epoch 20/30\n",
            "1250/1250 [==============================] - 8s 7ms/step - loss: 0.6952 - accuracy: 0.7589 - val_loss: 0.7738 - val_accuracy: 0.7303\n",
            "Epoch 21/30\n",
            "1250/1250 [==============================] - 8s 6ms/step - loss: 0.6911 - accuracy: 0.7611 - val_loss: 0.7422 - val_accuracy: 0.7393\n",
            "Epoch 22/30\n",
            "1250/1250 [==============================] - 8s 6ms/step - loss: 0.6888 - accuracy: 0.7612 - val_loss: 0.8032 - val_accuracy: 0.7228\n",
            "Epoch 23/30\n",
            "1250/1250 [==============================] - 8s 6ms/step - loss: 0.6828 - accuracy: 0.7643 - val_loss: 0.7463 - val_accuracy: 0.7404\n",
            "Epoch 24/30\n",
            "1250/1250 [==============================] - 8s 6ms/step - loss: 0.6712 - accuracy: 0.7688 - val_loss: 0.7041 - val_accuracy: 0.7512\n",
            "Epoch 25/30\n",
            "1250/1250 [==============================] - 8s 6ms/step - loss: 0.6683 - accuracy: 0.7705 - val_loss: 0.7563 - val_accuracy: 0.7428\n",
            "Epoch 26/30\n",
            "1250/1250 [==============================] - 8s 6ms/step - loss: 0.6619 - accuracy: 0.7733 - val_loss: 0.7228 - val_accuracy: 0.7452\n",
            "Epoch 27/30\n",
            "1250/1250 [==============================] - 8s 6ms/step - loss: 0.6523 - accuracy: 0.7719 - val_loss: 0.7613 - val_accuracy: 0.7368\n",
            "Epoch 28/30\n",
            "1250/1250 [==============================] - 8s 7ms/step - loss: 0.6462 - accuracy: 0.7732 - val_loss: 0.7593 - val_accuracy: 0.7382\n",
            "Epoch 29/30\n",
            "1250/1250 [==============================] - 8s 6ms/step - loss: 0.6431 - accuracy: 0.7773 - val_loss: 0.7229 - val_accuracy: 0.7518\n"
          ]
        }
      ]
    },
    {
      "cell_type": "markdown",
      "source": [
        "# 3. Exercise: evaluation on test data\n",
        "You will evaluate the classification of the test data using the common metrics and the confusion matrix in this section.\n",
        "\n",
        "\n",
        "As a first stes, let's run the predictions and convert the predicted softmax outputs to dense labels. The one-hot encoded labels are also converted back to dense labels, as they are required for the evaluation functions."
      ],
      "metadata": {
        "id": "2FtKp-a2-A9m"
      }
    },
    {
      "cell_type": "code",
      "source": [
        "probas = model.predict(X_test)\n",
        "preds  = np.argmax(probas,axis=1)\n",
        "Y_test_dense = np.argmax(Y_test, axis=1) # get the original dense labels of the test data"
      ],
      "metadata": {
        "id": "EcWAqwlDMq3y",
        "colab": {
          "base_uri": "https://localhost:8080/"
        },
        "outputId": "7e5c3f32-9b6b-485f-8397-e93445dcbcf7"
      },
      "execution_count": 60,
      "outputs": [
        {
          "output_type": "stream",
          "name": "stdout",
          "text": [
            "313/313 [==============================] - 1s 2ms/step\n"
          ]
        }
      ]
    },
    {
      "cell_type": "markdown",
      "source": [
        "## 3.1. Exercise: Metrics\n",
        "please review the common classification metrics (accuracy, precision, recall, F1) for the complete model (not per class).\n",
        "\n",
        "Hints:\n",
        "* use macro averaging\n",
        "* you have to import the right functions from [sklearn.metrics](https://scikit-learn.org/stable/modules/model_evaluation.html)\n"
      ],
      "metadata": {
        "id": "RWJ-PH_iMs9K"
      }
    },
    {
      "cell_type": "code",
      "source": [
        "from sklearn.metrics import accuracy_score, precision_score, recall_score, f1_score\n",
        "accuracy = accuracy_score(Y_test_dense, preds)\n",
        "precision = precision_score(Y_test_dense, preds, average='macro')\n",
        "recall = recall_score(Y_test_dense, preds, average='macro')\n",
        "f1 = f1_score(Y_test_dense, preds, average='macro')"
      ],
      "metadata": {
        "id": "5sKm5zHSMZ_x"
      },
      "execution_count": 61,
      "outputs": []
    },
    {
      "cell_type": "code",
      "source": [
        "print(\"Accuracy:\", accuracy)\n",
        "print(\"Precision:\", precision)\n",
        "print(\"Recall:\", recall)\n",
        "print(\"F1:\", f1)"
      ],
      "metadata": {
        "id": "I3_9wgDREUna",
        "colab": {
          "base_uri": "https://localhost:8080/"
        },
        "outputId": "cb1c4d50-72f5-4317-d393-82cfca88f826"
      },
      "execution_count": 62,
      "outputs": [
        {
          "output_type": "stream",
          "name": "stdout",
          "text": [
            "Accuracy: 0.7521\n",
            "Precision: 0.7636846947519439\n",
            "Recall: 0.7521\n",
            "F1: 0.7506854565365648\n"
          ]
        }
      ]
    },
    {
      "cell_type": "markdown",
      "source": [
        "\n",
        "## 3.2. Exercise: Confusion matrix\n",
        "Calculate the confusion matrix and display the results in a heatmap (with decimal values).\n",
        "\n",
        "Hints:\n",
        "* you have to do the imports this time too, e.g. from [sklearn.metrics](https://scikit-learn.org/stable/modules/model_evaluation.html) and the [heatmap function](https://seaborn.pydata.org/generated/seaborn.heatmap.html) of [seaborn](https://seaborn.pydata.org/)\n",
        "* for displaying the decimal values, you have to turn annot=True and define fmt='d' in the heatmap function of seaborn"
      ],
      "metadata": {
        "id": "ECHguBFtGL7f"
      }
    },
    {
      "cell_type": "code",
      "source": [
        "from sklearn.metrics import confusion_matrix\n",
        "import seaborn as sns"
      ],
      "metadata": {
        "id": "SIi2VzMBO3yD"
      },
      "execution_count": 63,
      "outputs": []
    },
    {
      "cell_type": "code",
      "metadata": {
        "id": "cdqODx92Svw7",
        "colab": {
          "base_uri": "https://localhost:8080/",
          "height": 545
        },
        "outputId": "dbddfe46-8758-4885-b1b6-04e73866e1fc"
      },
      "source": [
        "conf = confusion_matrix(Y_test_dense,preds)\n",
        "plt.figure(figsize=(7,6))\n",
        "sns.heatmap(conf,annot=True,fmt=\"2d\", vmax=100)"
      ],
      "execution_count": 64,
      "outputs": [
        {
          "output_type": "execute_result",
          "data": {
            "text/plain": [
              "<Axes: >"
            ]
          },
          "metadata": {},
          "execution_count": 64
        },
        {
          "output_type": "display_data",
          "data": {
            "text/plain": [
              "<Figure size 700x600 with 2 Axes>"
            ],
            "image/png": "[encoded data removed]"
          },
          "metadata": {}
        }
      ]
    },
    {
      "cell_type": "code",
      "source": [],
      "metadata": {
        "id": "X2ieuMwcvqqb"
      },
      "execution_count": null,
      "outputs": []
    }
  ]
}